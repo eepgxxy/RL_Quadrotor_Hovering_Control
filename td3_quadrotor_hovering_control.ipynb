{
 "cells": [
  {
   "cell_type": "markdown",
   "metadata": {
    "collapsed": false
   },
   "source": [
    "TD3的全称是Twin-Delayed Deep Deterministic Policy Gradient，和DDPG相比多了个Twin-Delayed。这也是TD3相对于DDPG的主要区别。和DDPG相比，TD3主要有以下3点改进：\n",
    "1. TD3 agent 会学习两个Q值，在更新策略时会选取较小的Q值。而DDPG只会学习一个Q值。这是TD3中“Twin”的由来。在Parl中的代码分别为：\n",
    "```\n",
    "DDPG: next_Q = self.target_model.value(next_obs, next_action)\n",
    "TD3: next_Q = layers.elementwise_min(next_Q1, next_Q2)\n",
    "```\n",
    "2. TD3 agent 对策略的更新比Q值的更新更慢，也就是比DDPG中的策略更新更慢，在Parl的代码中默认为是更新减半。这是TD3中“Delayed”的由来。在Parl中的代码分别为：\n",
    "```\n",
    "DDPG: 无减慢更新\n",
    "TD3: if self.learn_it % self.policy_freq == 0:\n",
    "        actor_cost = self.fluid_executor.run(\n",
    "        self.actor_learn_program,\n",
    "                feed={'obs': obs},\n",
    "                fetch_list=[self.actor_cost])[0]\n",
    "        self.alg.sync_target()\n",
    "```\n",
    "3. 更新策略时，TD3 agent 会给目标action添加噪声，目的主要是降低对高Q值估计的过分依赖。在Parl中的代码分别为：\n",
    "```\n",
    "DDPG: next_action = self.target_model.policy(next_obs)\n",
    "TD3: next_action = self.target_model.policy(next_obs) + noise\n",
    "```"
   ]
  },
  {
   "cell_type": "markdown",
   "metadata": {
    "collapsed": false
   },
   "source": [
    "Parl代码和原论文代码在实现Critic网络时的一点区别：\n",
    "原论文将state和action的拼接放到了Critic网络的输入层，而Parl代码将这种拼接放到了第一个隐藏层。"
   ]
  },
  {
   "cell_type": "markdown",
   "metadata": {
    "collapsed": false
   },
   "source": [
    "由于Agent类中没有默认的learn_program， 本项目改写了Agent类中的save和restore函数。"
   ]
  },
  {
   "cell_type": "markdown",
   "metadata": {
    "collapsed": false
   },
   "source": [
    "在本项目中，使用TD3后跟之前使用DDPG相比，性能有非常大的提升。由于篇幅的关系，本项目只给出使用TD3的训练过程和结果，使用TD3和DDPG的结果比较图示请见github链接:https://github.com/eepgxxy/RL_Quadrotor_Velocity_Control"
   ]
  },
  {
   "cell_type": "markdown",
   "metadata": {
    "collapsed": false
   },
   "source": [
    "## Step1 安装依赖"
   ]
  },
  {
   "cell_type": "code",
   "execution_count": 1,
   "metadata": {
    "collapsed": false
   },
   "outputs": [],
   "source": [
    "# 如果需要进行持久化安装, 需要使用持久化路径, 如下方代码示例:\n",
    "# If a persistence installation is required, you need to use the persistence path as the following:\n",
    "# !mkdir /home/aistudio/external-libraries\n",
    "# !pip install  rlschool==0.3.1 -i https://pypi.tuna.tsinghua.edu.cn/simple\n",
    "# !pip install -U parl"
   ]
  },
  {
   "cell_type": "code",
   "execution_count": 4,
   "metadata": {
    "collapsed": false
   },
   "outputs": [],
   "source": [
    "# 同时添加如下代码, 这样每次环境(kernel)启动的时候只要运行下方代码即可:\r\n",
    "# Also add the following code, so that every time the environment (kernel) starts, just run the following code:\r\n",
    "import sys\r\n",
    "sys.path.append('/home/aistudio/external-libraries')"
   ]
  },
  {
   "cell_type": "markdown",
   "metadata": {
    "collapsed": false
   },
   "source": [
    "## Step2 导入依赖"
   ]
  },
  {
   "cell_type": "code",
   "execution_count": 5,
   "metadata": {
    "collapsed": false
   },
   "outputs": [],
   "source": [
    "import os\n",
    "import numpy as np\n",
    "\n",
    "import parl\n",
    "from parl import layers\n",
    "from paddle import fluid\n",
    "from parl.utils import logger\n",
    "from parl.utils import action_mapping # 将神经网络输出映射到对应的 实际动作取值范围 内\n",
    "from parl.utils import ReplayMemory # 经验回放\n",
    "\n",
    "from rlschool import make_env  # 使用 RLSchool 创建飞行器环境"
   ]
  },
  {
   "cell_type": "markdown",
   "metadata": {
    "collapsed": false
   },
   "source": [
    "## Step3 设置超参数"
   ]
  },
  {
   "cell_type": "code",
   "execution_count": 6,
   "metadata": {
    "collapsed": false
   },
   "outputs": [],
   "source": [
    "######################################################################\n",
    "######################################################################\n",
    "#\n",
    "# 1. 请设定 learning rate，尝试增减查看效果\n",
    "#\n",
    "######################################################################\n",
    "######################################################################\n",
    "ACTOR_LR = 1e-3   # Actor网络更新的 learning rate\n",
    "CRITIC_LR = 1e-3   # Critic网络更新的 learning rate\n",
    "\n",
    "GAMMA = 0.95        # reward 的衰减因子，一般取 0.9 到 0.999 不等\n",
    "TAU = 0.005         # target_model 跟 model 同步参数 的 软更新参数\n",
    "MEMORY_SIZE = int(1e6)   # replay memory的大小，越大越占用内存\n",
    "WARMUP_SIZE = 1e4      # replay_memory 里需要预存一些经验数据，再从里面sample一个batch的经验让agent去learn\n",
    "REWARD_SCALE = 0.1       # reward 的缩放因子\n",
    "BATCH_SIZE = 256          # 每次给agent learn的数据数量，从replay memory随机里sample一批数据出来\n",
    "TRAIN_TOTAL_STEPS = int(1.2e6)   # 总训练步数\n",
    "TEST_EVERY_STEPS = 1e4    # 每个N步评估一下算法效果，每次评估5个episode求平均reward\n",
    "EXPL_NOISE = 0.1         # 添加噪声系数"
   ]
  },
  {
   "cell_type": "markdown",
   "metadata": {
    "collapsed": false
   },
   "source": [
    "## Step4 搭建Model、Algorithm、Agent架构"
   ]
  },
  {
   "cell_type": "markdown",
   "metadata": {
    "collapsed": false
   },
   "source": [
    "### （1）Model"
   ]
  },
  {
   "cell_type": "code",
   "execution_count": 7,
   "metadata": {
    "collapsed": false
   },
   "outputs": [],
   "source": [
    "class ActorModel(parl.Model):\n",
    "    def __init__(self, act_dim, max_action):\n",
    "        hid1_size = 300\n",
    "        hid2_size = 300\n",
    "\n",
    "        self.fc1 = layers.fc(size=hid1_size, act='tanh')\n",
    "        self.fc2 = layers.fc(size=hid2_size, act='tanh')\n",
    "        self.fc3 = layers.fc(size=act_dim, act='tanh')\n",
    "\n",
    "        self.max_action = max_action\n",
    "        ######################################################################\n",
    "        ######################################################################\n",
    "        #\n",
    "        # 2. 配置model结构\n",
    "        #\n",
    "        ######################################################################\n",
    "        ######################################################################\n",
    "\n",
    "    def policy(self, obs):\n",
    "        ######################################################################\n",
    "        ######################################################################\n",
    "        #\n",
    "        # 3. 组装policy网络\n",
    "        #\n",
    "        ######################################################################\n",
    "        ######################################################################\n",
    "        hid1 = self.fc1(obs)\n",
    "        hid2 = self.fc2(hid1)\n",
    "        means = self.fc3(hid2)\n",
    "        means = means * self.max_action\n",
    "        return means"
   ]
  },
  {
   "cell_type": "code",
   "execution_count": 8,
   "metadata": {
    "collapsed": false
   },
   "outputs": [],
   "source": [
    "class CriticModel(parl.Model):\n",
    "    def __init__(self):\n",
    "        ######################################################################\n",
    "        ######################################################################\n",
    "        #\n",
    "        # 4. 配置model结构\n",
    "        #\n",
    "        ######################################################################\n",
    "        ######################################################################\n",
    "        hid1_size = 300\n",
    "        hid2_size = 300\n",
    "\n",
    "        self.fc1 = layers.fc(size=hid1_size, act='tanh')\n",
    "        self.fc2 = layers.fc(size=hid2_size, act='tanh')\n",
    "        self.fc3 = layers.fc(size=1, act=None)\n",
    "\n",
    "        self.fc4 = layers.fc(size=hid1_size, act='tanh')\n",
    "        self.fc5 = layers.fc(size=hid2_size, act='tanh')\n",
    "        self.fc6 = layers.fc(size=1, act=None)\n",
    "  \n",
    "\n",
    "    def value(self, obs, act):\n",
    "        # 输入 state, action, 输出对应的Q(s,a)\n",
    "\n",
    "        ######################################################################\n",
    "        ######################################################################\n",
    "        #\n",
    "        # 5. 组装Q网络\n",
    "        #\n",
    "        ######################################################################\n",
    "        ######################################################################\n",
    "        hid1 = self.fc1(obs)\n",
    "        concat1 = layers.concat([hid1, act], axis=1)\n",
    "        Q1 = self.fc2(concat1)\n",
    "        Q1 = self.fc3(Q1)\n",
    "        Q1 = layers.squeeze(Q1, axes=[1])\n",
    "\n",
    "        hid2 = self.fc4(obs)\n",
    "        concat2 = layers.concat([hid2, act], axis=1)\n",
    "        Q2 = self.fc5(concat2)\n",
    "        Q2 = self.fc6(Q2)\n",
    "        Q2 = layers.squeeze(Q2, axes=[1])\n",
    "        return Q1, Q2\n",
    "\n",
    "    def Q1(self, obs, act):\n",
    "        hid1 = self.fc1(obs)\n",
    "        concat1 = layers.concat([hid1, act], axis=1)\n",
    "        Q1 = self.fc2(concat1)\n",
    "        Q1 = self.fc3(Q1)\n",
    "        Q1 = layers.squeeze(Q1, axes=[1])\n",
    "\n",
    "        return Q1"
   ]
  },
  {
   "cell_type": "code",
   "execution_count": 9,
   "metadata": {
    "collapsed": false
   },
   "outputs": [],
   "source": [
    "class QuadrotorModel(parl.Model):\n",
    "    def __init__(self, act_dim, max_action):\n",
    "        self.actor_model = ActorModel(act_dim, max_action)\n",
    "        self.critic_model = CriticModel()\n",
    "\n",
    "    def policy(self, obs):\n",
    "        return self.actor_model.policy(obs)\n",
    "\n",
    "    def value(self, obs, act):\n",
    "        return self.critic_model.value(obs, act)\n",
    "\n",
    "    def Q1(self, obs, act):\n",
    "        return self.critic_model.Q1(obs, act)\n",
    "\n",
    "    def get_actor_params(self):\n",
    "        return self.actor_model.parameters()"
   ]
  },
  {
   "cell_type": "markdown",
   "metadata": {
    "collapsed": false
   },
   "source": [
    "### （2）Algorithm"
   ]
  },
  {
   "cell_type": "code",
   "execution_count": 10,
   "metadata": {
    "collapsed": false
   },
   "outputs": [],
   "source": [
    "from parl.algorithms import TD3"
   ]
  },
  {
   "cell_type": "markdown",
   "metadata": {
    "collapsed": false
   },
   "source": [
    "### （3）Agent"
   ]
  },
  {
   "cell_type": "code",
   "execution_count": 11,
   "metadata": {
    "collapsed": false
   },
   "outputs": [],
   "source": [
    "\n",
    "class QuadrotorAgent(parl.Agent):\n",
    "    def __init__(self, algorithm, obs_dim, act_dim):\n",
    "        assert isinstance(obs_dim, int)\n",
    "        assert isinstance(act_dim, int)\n",
    "        self.obs_dim = obs_dim\n",
    "        self.act_dim = act_dim\n",
    "        super(QuadrotorAgent, self).__init__(algorithm)\n",
    "\n",
    "        # Attention: In the beginning, sync target model totally.\n",
    "        self.alg.sync_target(decay=0)\n",
    "        self.learn_it = 0\n",
    "        self.policy_freq = self.alg.policy_freq\n",
    "\n",
    "    def build_program(self):\n",
    "        self.pred_program = fluid.Program()\n",
    "        self.actor_learn_program = fluid.Program()\n",
    "        self.critic_learn_program = fluid.Program()\n",
    "\n",
    "        with fluid.program_guard(self.pred_program):\n",
    "            obs = layers.data(\n",
    "                name='obs', shape=[self.obs_dim], dtype='float32')\n",
    "            self.pred_act = self.alg.predict(obs)\n",
    "\n",
    "        with fluid.program_guard(self.actor_learn_program):\n",
    "            obs = layers.data(\n",
    "                name='obs', shape=[self.obs_dim], dtype='float32')\n",
    "            self.actor_cost = self.alg.actor_learn(obs)\n",
    "\n",
    "        with fluid.program_guard(self.critic_learn_program):\n",
    "            obs = layers.data(\n",
    "                name='obs', shape=[self.obs_dim], dtype='float32')\n",
    "            act = layers.data(\n",
    "                name='act', shape=[self.act_dim], dtype='float32')\n",
    "            reward = layers.data(name='reward', shape=[], dtype='float32')\n",
    "            next_obs = layers.data(\n",
    "                name='next_obs', shape=[self.obs_dim], dtype='float32')\n",
    "            terminal = layers.data(name='terminal', shape=[], dtype='bool')\n",
    "            self.critic_cost = self.alg.critic_learn(obs, act, reward,\n",
    "                                                     next_obs, terminal)\n",
    "\n",
    "    def predict(self, obs):\n",
    "        obs = np.expand_dims(obs, axis=0)\n",
    "        act = self.fluid_executor.run(\n",
    "            self.pred_program, feed={'obs': obs},\n",
    "            fetch_list=[self.pred_act])[0]\n",
    "        return act\n",
    "\n",
    "    def learn(self, obs, act, reward, next_obs, terminal):\n",
    "        self.learn_it += 1\n",
    "        feed = {\n",
    "            'obs': obs,\n",
    "            'act': act,\n",
    "            'reward': reward,\n",
    "            'next_obs': next_obs,\n",
    "            'terminal': terminal\n",
    "        }\n",
    "        critic_cost = self.fluid_executor.run(\n",
    "            self.critic_learn_program,\n",
    "            feed=feed,\n",
    "            fetch_list=[self.critic_cost])[0]\n",
    "\n",
    "        actor_cost = None\n",
    "        if self.learn_it % self.policy_freq == 0:\n",
    "            actor_cost = self.fluid_executor.run(\n",
    "                self.actor_learn_program,\n",
    "                feed={'obs': obs},\n",
    "                fetch_list=[self.actor_cost])[0]\n",
    "            self.alg.sync_target()\n",
    "        return actor_cost, critic_cost\n",
    "\n",
    "    def save(self, save_path, mode, program=None):\n",
    "        \"\"\"Save parameters.\n",
    "        Args:\n",
    "            save_path(str): where to save the parameters.\n",
    "            program(fluid.Program): program that describes the neural network structure. If None, will use self.learn_program.\n",
    "        Raises:\n",
    "            ValueError: if program is None and self.learn_program does not exist.\n",
    "        Example:\n",
    "        .. code-block:: python\n",
    "            agent = AtariAgent()\n",
    "            agent.save('./model.ckpt')\n",
    "        \"\"\"\n",
    "        if mode == \"train_actor\":\n",
    "            save_program = self.actor_learn_program\n",
    "        elif mode == \"train_critic\":\n",
    "            save_program = self.critic_learn_program\n",
    "        elif mode == \"predict\":\n",
    "            save_program = self.pred_program\n",
    "        else:\n",
    "            save_program = self.pred_program\n",
    "        if program is None:\n",
    "            program = save_program\n",
    "        dirname = os.sep.join(save_path.split(os.sep)[:-1])\n",
    "        filename = save_path.split(os.sep)[-1]\n",
    "        fluid.io.save_params(\n",
    "            executor=self.fluid_executor,\n",
    "            dirname=dirname,\n",
    "            main_program=program,\n",
    "            filename=filename)\n",
    "\n",
    "    def restore(self, save_path, mode, program=None):\n",
    "        \"\"\"Restore previously saved parameters.\n",
    "        This method requires a program that describes the network structure.\n",
    "        The save_path argument is typically a value previously passed to ``save_params()``.\n",
    "        Args:\n",
    "            save_path(str): path where parameters were previously saved.\n",
    "            program(fluid.Program): program that describes the neural network structure. If None, will use self.learn_program.\n",
    "        Raises:\n",
    "            ValueError: if program is None and self.learn_program does not exist.\n",
    "        Example:\n",
    "        .. code-block:: python\n",
    "            agent = AtariAgent()\n",
    "            agent.save('./model.ckpt')\n",
    "            agent.restore('./model.ckpt')\n",
    "        \"\"\"\n",
    "        if mode == \"train_actor\":\n",
    "            save_program = self.actor_learn_program\n",
    "        elif mode == \"train_critic\":\n",
    "            save_program = self.critic_learn_program\n",
    "        elif mode == \"predict\":\n",
    "            save_program = self.pred_program\n",
    "        else:\n",
    "            save_program = self.pred_program \n",
    "        if program is None:\n",
    "            program = save_program\n",
    "        if type(program) is fluid.compiler.CompiledProgram:\n",
    "            program = program._init_program\n",
    "        dirname = os.sep.join(save_path.split(os.sep)[:-1])\n",
    "        filename = save_path.split(os.sep)[-1]\n",
    "        fluid.io.load_params(\n",
    "            executor=self.fluid_executor,\n",
    "            dirname=dirname,\n",
    "            main_program=program,\n",
    "            filename=filename)"
   ]
  },
  {
   "cell_type": "markdown",
   "metadata": {
    "collapsed": false
   },
   "source": [
    "## Step4 Training && Test（训练&&测试）"
   ]
  },
  {
   "cell_type": "code",
   "execution_count": 12,
   "metadata": {
    "collapsed": false
   },
   "outputs": [],
   "source": [
    "def run_episode(env, agent, rpm):\n",
    "    obs = env.reset()\n",
    "    total_reward = 0\n",
    "    steps = 0\n",
    "    max_action = float(env.action_space.high[0])\n",
    "    while True:\n",
    "        steps += 1\n",
    "        batch_obs = np.expand_dims(obs, axis=0)\n",
    "\n",
    "        if rpm.size() < WARMUP_SIZE:\n",
    "            action = env.action_space.sample()\n",
    "        else:\n",
    "            action = agent.predict(batch_obs.astype('float32'))\n",
    "            action = np.squeeze(action)\n",
    "\n",
    "            # Add exploration noise, and clip to [-max_action, max_action]\n",
    "            action = np.clip(\n",
    "                np.random.normal(action, EXPL_NOISE * max_action), -max_action,\n",
    "                max_action)\n",
    "\n",
    "        next_obs, reward, done, info = env.step(action)\n",
    "\n",
    "        rpm.append(obs, action, reward, next_obs, done)\n",
    "\n",
    "        if rpm.size() > WARMUP_SIZE:\n",
    "            batch_obs, batch_action, batch_reward, batch_next_obs, batch_terminal = rpm.sample_batch(\n",
    "                BATCH_SIZE)\n",
    "            agent.learn(batch_obs, batch_action, batch_reward, batch_next_obs,\n",
    "                        batch_terminal)\n",
    "\n",
    "        obs = next_obs\n",
    "        total_reward += reward\n",
    "\n",
    "        if done:\n",
    "            break\n",
    "    return total_reward, steps\n",
    "\n",
    "\n",
    "# 评估 agent, 跑 5 个episode，总reward求平均\n",
    "def evaluate(env, agent, render=False):\n",
    "    eval_reward = []\n",
    "    for i in range(5):\n",
    "        obs = env.reset()\n",
    "        total_reward = 0\n",
    "        while True:\n",
    "            batch_obs = np.expand_dims(obs, axis=0)\n",
    "            action = agent.predict(batch_obs.astype('float32'))\n",
    "            action = np.squeeze(action)\n",
    "            action = np.clip(np.random.normal(action, 1.0), -1.0, 1.0)\n",
    "            action = action_mapping(action, env.action_space.low[0],\n",
    "                                    env.action_space.high[0])\n",
    "\n",
    "            next_obs, reward, done, info = env.step(action)\n",
    "\n",
    "            obs = next_obs\n",
    "            total_reward += reward\n",
    "\n",
    "            if render:\n",
    "                env.render()\n",
    "            if done:\n",
    "                break\n",
    "        eval_reward.append(total_reward)\n",
    "    return np.mean(eval_reward)"
   ]
  },
  {
   "cell_type": "markdown",
   "metadata": {
    "collapsed": false
   },
   "source": [
    "### 画图函数初始化数据"
   ]
  },
  {
   "cell_type": "code",
   "execution_count": 17,
   "metadata": {
    "collapsed": false
   },
   "outputs": [],
   "source": [
    "all_train_rewards=[]\n",
    "all_test_rewards=[]\n",
    "all_train_steps=[]\n",
    "all_test_steps=[]"
   ]
  },
  {
   "cell_type": "markdown",
   "metadata": {
    "collapsed": false
   },
   "source": [
    "### Step 5 创建环境和Agent，创建经验池，启动训练，定期保存模型"
   ]
  },
  {
   "cell_type": "code",
   "execution_count": 14,
   "metadata": {
    "collapsed": false
   },
   "outputs": [
    {
     "name": "stdout",
     "output_type": "stream",
     "text": [
      "\u001b[32m[07-24 00:15:13 MainThread @machine_info.py:86]\u001b[0m nvidia-smi -L found gpu count: 1\n",
      "\u001b[32m[07-24 00:15:13 MainThread @machine_info.py:86]\u001b[0m nvidia-smi -L found gpu count: 1\n",
      "\u001b[32m[07-24 00:15:16 MainThread @machine_info.py:86]\u001b[0m nvidia-smi -L found gpu count: 1\n"
     ]
    }
   ],
   "source": [
    "# 创建飞行器环境\n",
    "env = make_env(\"Quadrotor\", task=\"hovering_control\", seed=0)\n",
    "\n",
    "obs_dim = env.observation_space.shape[0]\n",
    "act_dim = env.action_space.shape[0]\n",
    "max_action = float(env.action_space.high[0])\n",
    "env.reset()\n",
    "\n",
    "# 根据parl框架构建agent\n",
    "######################################################################\n",
    "######################################################################\n",
    "#\n",
    "# 6. 构建agent:  QuadrotorModel, TD3, QuadrotorAgent三者嵌套\n",
    "#\n",
    "######################################################################\n",
    "######################################################################\n",
    "model = QuadrotorModel(act_dim, max_action)\n",
    "algorithm = parl.algorithms.TD3(\n",
    "        model,\n",
    "        max_action=max_action,\n",
    "        gamma=GAMMA,\n",
    "        tau=TAU,\n",
    "        actor_lr=ACTOR_LR,\n",
    "        critic_lr=CRITIC_LR)\n",
    "agent = QuadrotorAgent(algorithm, obs_dim, act_dim)\n",
    "\n",
    "rpm = ReplayMemory(MEMORY_SIZE, obs_dim, act_dim)"
   ]
  },
  {
   "cell_type": "code",
   "execution_count": 15,
   "metadata": {
    "collapsed": false
   },
   "outputs": [
    {
     "name": "stdout",
     "output_type": "stream",
     "text": [
      "\u001b[32m[07-24 00:19:55 MainThread @<ipython-input-15-d8257fa1376d>:26]\u001b[0m Steps 771, Test reward: -923.3951557620661\n",
      "\u001b[32m[07-24 00:21:06 MainThread @machine_info.py:86]\u001b[0m nvidia-smi -L found gpu count: 1\n",
      "\u001b[32m[07-24 00:21:19 MainThread @<ipython-input-15-d8257fa1376d>:26]\u001b[0m Steps 10188, Test reward: -851.7605594869292\n",
      "\u001b[32m[07-24 00:26:44 MainThread @<ipython-input-15-d8257fa1376d>:26]\u001b[0m Steps 20286, Test reward: -1448.091129194846\n",
      "\u001b[32m[07-24 00:31:56 MainThread @<ipython-input-15-d8257fa1376d>:26]\u001b[0m Steps 30041, Test reward: -584.360164243741\n",
      "\u001b[32m[07-24 00:37:13 MainThread @<ipython-input-15-d8257fa1376d>:26]\u001b[0m Steps 40053, Test reward: -964.0785895957999\n",
      "\u001b[32m[07-24 00:42:37 MainThread @<ipython-input-15-d8257fa1376d>:26]\u001b[0m Steps 50180, Test reward: 86.39964098101716\n",
      "\u001b[32m[07-24 00:48:21 MainThread @<ipython-input-15-d8257fa1376d>:26]\u001b[0m Steps 60137, Test reward: 1558.943798271223\n",
      "\u001b[32m[07-24 00:53:45 MainThread @<ipython-input-15-d8257fa1376d>:26]\u001b[0m Steps 70478, Test reward: 1436.2105780259506\n",
      "\u001b[32m[07-24 00:58:36 MainThread @<ipython-input-15-d8257fa1376d>:26]\u001b[0m Steps 80080, Test reward: 526.1731021692319\n",
      "\u001b[32m[07-24 01:03:42 MainThread @<ipython-input-15-d8257fa1376d>:26]\u001b[0m Steps 90051, Test reward: 340.31944069387794\n",
      "\u001b[32m[07-24 01:08:48 MainThread @<ipython-input-15-d8257fa1376d>:26]\u001b[0m Steps 100094, Test reward: -382.9455606811011\n",
      "\u001b[32m[07-24 01:14:08 MainThread @<ipython-input-15-d8257fa1376d>:26]\u001b[0m Steps 110239, Test reward: 660.3372751574467\n",
      "\u001b[32m[07-24 01:19:23 MainThread @<ipython-input-15-d8257fa1376d>:26]\u001b[0m Steps 120064, Test reward: 843.2143804231382\n",
      "\u001b[32m[07-24 01:24:37 MainThread @<ipython-input-15-d8257fa1376d>:26]\u001b[0m Steps 130087, Test reward: -401.03608020300874\n",
      "\u001b[32m[07-24 01:29:52 MainThread @<ipython-input-15-d8257fa1376d>:26]\u001b[0m Steps 140255, Test reward: 1756.840639134824\n",
      "\u001b[32m[07-24 01:34:52 MainThread @<ipython-input-15-d8257fa1376d>:26]\u001b[0m Steps 150092, Test reward: 1039.9761770986138\n",
      "\u001b[32m[07-24 01:39:57 MainThread @<ipython-input-15-d8257fa1376d>:26]\u001b[0m Steps 160110, Test reward: 567.9722182996417\n",
      "\u001b[32m[07-24 01:45:02 MainThread @<ipython-input-15-d8257fa1376d>:26]\u001b[0m Steps 170303, Test reward: 518.527957495802\n",
      "\u001b[32m[07-24 01:49:53 MainThread @<ipython-input-15-d8257fa1376d>:26]\u001b[0m Steps 180231, Test reward: 587.5904826029206\n",
      "\u001b[32m[07-24 01:55:12 MainThread @<ipython-input-15-d8257fa1376d>:26]\u001b[0m Steps 190508, Test reward: 2187.6392414740876\n",
      "\u001b[32m[07-24 02:00:08 MainThread @<ipython-input-15-d8257fa1376d>:26]\u001b[0m Steps 200072, Test reward: 3212.4151327766413\n",
      "\u001b[32m[07-24 02:05:23 MainThread @<ipython-input-15-d8257fa1376d>:26]\u001b[0m Steps 210574, Test reward: 1479.6803270028668\n",
      "\u001b[32m[07-24 02:10:20 MainThread @<ipython-input-15-d8257fa1376d>:26]\u001b[0m Steps 220224, Test reward: 1937.0221097474991\n",
      "\u001b[32m[07-24 02:15:32 MainThread @<ipython-input-15-d8257fa1376d>:26]\u001b[0m Steps 230313, Test reward: 2460.1766111866414\n",
      "\u001b[32m[07-24 02:20:19 MainThread @<ipython-input-15-d8257fa1376d>:26]\u001b[0m Steps 240003, Test reward: 527.3462829966707\n",
      "\u001b[32m[07-24 02:25:45 MainThread @<ipython-input-15-d8257fa1376d>:26]\u001b[0m Steps 250685, Test reward: 2611.0051240140597\n",
      "\u001b[32m[07-24 02:30:49 MainThread @<ipython-input-15-d8257fa1376d>:26]\u001b[0m Steps 260144, Test reward: 4636.324944243293\n",
      "\u001b[32m[07-24 02:36:00 MainThread @<ipython-input-15-d8257fa1376d>:26]\u001b[0m Steps 270218, Test reward: 2351.7794616573447\n",
      "\u001b[32m[07-24 02:41:14 MainThread @<ipython-input-15-d8257fa1376d>:26]\u001b[0m Steps 280106, Test reward: 4317.997107421933\n",
      "\u001b[32m[07-24 02:46:18 MainThread @<ipython-input-15-d8257fa1376d>:26]\u001b[0m Steps 290394, Test reward: 436.4409255667577\n",
      "\u001b[32m[07-24 02:51:36 MainThread @<ipython-input-15-d8257fa1376d>:26]\u001b[0m Steps 300290, Test reward: 5221.777926463944\n",
      "\u001b[32m[07-24 02:56:59 MainThread @<ipython-input-15-d8257fa1376d>:26]\u001b[0m Steps 310384, Test reward: 6182.190240498836\n",
      "\u001b[32m[07-24 03:02:00 MainThread @<ipython-input-15-d8257fa1376d>:26]\u001b[0m Steps 320267, Test reward: 1853.566944909565\n",
      "\u001b[32m[07-24 03:07:23 MainThread @<ipython-input-15-d8257fa1376d>:26]\u001b[0m Steps 330258, Test reward: 6477.838800659303\n",
      "\u001b[32m[07-24 03:12:34 MainThread @<ipython-input-15-d8257fa1376d>:26]\u001b[0m Steps 340235, Test reward: 3923.8454647601984\n",
      "\u001b[32m[07-24 03:17:37 MainThread @<ipython-input-15-d8257fa1376d>:26]\u001b[0m Steps 350033, Test reward: 3142.897061619113\n",
      "\u001b[32m[07-24 03:23:51 MainThread @<ipython-input-15-d8257fa1376d>:26]\u001b[0m Steps 360499, Test reward: 5780.449299447541\n",
      "\u001b[32m[07-24 03:29:00 MainThread @<ipython-input-15-d8257fa1376d>:26]\u001b[0m Steps 370161, Test reward: 5310.850627424726\n",
      "\u001b[32m[07-24 03:34:30 MainThread @<ipython-input-15-d8257fa1376d>:26]\u001b[0m Steps 380350, Test reward: 8299.673636905593\n",
      "\u001b[32m[07-24 03:40:08 MainThread @<ipython-input-15-d8257fa1376d>:26]\u001b[0m Steps 390971, Test reward: 5700.956325179806\n",
      "\u001b[32m[07-24 03:45:24 MainThread @<ipython-input-15-d8257fa1376d>:26]\u001b[0m Steps 400319, Test reward: 6172.059407506318\n",
      "\u001b[32m[07-24 03:50:56 MainThread @<ipython-input-15-d8257fa1376d>:26]\u001b[0m Steps 410853, Test reward: 4097.588205764934\n",
      "\u001b[32m[07-24 03:56:12 MainThread @<ipython-input-15-d8257fa1376d>:26]\u001b[0m Steps 420571, Test reward: 4522.769943544163\n",
      "\u001b[32m[07-24 04:01:35 MainThread @<ipython-input-15-d8257fa1376d>:26]\u001b[0m Steps 430782, Test reward: 4105.117108773152\n",
      "\u001b[32m[07-24 04:06:41 MainThread @<ipython-input-15-d8257fa1376d>:26]\u001b[0m Steps 440713, Test reward: 3625.4743316254753\n",
      "\u001b[32m[07-24 04:11:48 MainThread @<ipython-input-15-d8257fa1376d>:26]\u001b[0m Steps 450132, Test reward: 6478.583328738949\n",
      "\u001b[32m[07-24 04:17:32 MainThread @<ipython-input-15-d8257fa1376d>:26]\u001b[0m Steps 460715, Test reward: 7901.063812462982\n",
      "\u001b[32m[07-24 04:22:50 MainThread @<ipython-input-15-d8257fa1376d>:26]\u001b[0m Steps 470567, Test reward: 6422.428402158315\n",
      "\u001b[32m[07-24 04:28:04 MainThread @<ipython-input-15-d8257fa1376d>:26]\u001b[0m Steps 480227, Test reward: 7326.946290398019\n",
      "\u001b[32m[07-24 04:35:00 MainThread @<ipython-input-15-d8257fa1376d>:26]\u001b[0m Steps 490583, Test reward: 4348.472052743721\n",
      "\u001b[32m[07-24 04:40:11 MainThread @<ipython-input-15-d8257fa1376d>:26]\u001b[0m Steps 500203, Test reward: 6527.670732137785\n",
      "\u001b[32m[07-24 04:45:38 MainThread @<ipython-input-15-d8257fa1376d>:26]\u001b[0m Steps 510359, Test reward: 6645.435496434487\n",
      "\u001b[32m[07-24 04:51:01 MainThread @<ipython-input-15-d8257fa1376d>:26]\u001b[0m Steps 520228, Test reward: 7142.431181382909\n",
      "\u001b[32m[07-24 04:56:27 MainThread @<ipython-input-15-d8257fa1376d>:26]\u001b[0m Steps 530356, Test reward: 5641.687379587291\n",
      "\u001b[32m[07-24 05:01:50 MainThread @<ipython-input-15-d8257fa1376d>:26]\u001b[0m Steps 540331, Test reward: 6070.36661224291\n",
      "\u001b[32m[07-24 05:07:24 MainThread @<ipython-input-15-d8257fa1376d>:26]\u001b[0m Steps 550833, Test reward: 5704.703175949841\n",
      "\u001b[32m[07-24 05:12:29 MainThread @<ipython-input-15-d8257fa1376d>:26]\u001b[0m Steps 560492, Test reward: 3601.565813480297\n",
      "\u001b[32m[07-24 05:18:18 MainThread @<ipython-input-15-d8257fa1376d>:26]\u001b[0m Steps 570732, Test reward: 4469.084207042389\n",
      "\u001b[32m[07-24 05:23:38 MainThread @<ipython-input-15-d8257fa1376d>:26]\u001b[0m Steps 580807, Test reward: 5372.58969666112\n",
      "\u001b[32m[07-24 05:28:56 MainThread @<ipython-input-15-d8257fa1376d>:26]\u001b[0m Steps 590600, Test reward: 7402.579426537198\n",
      "\u001b[32m[07-24 05:34:32 MainThread @<ipython-input-15-d8257fa1376d>:26]\u001b[0m Steps 600507, Test reward: 6297.354896035469\n",
      "\u001b[32m[07-24 05:40:07 MainThread @<ipython-input-15-d8257fa1376d>:26]\u001b[0m Steps 610508, Test reward: 7856.390362719279\n",
      "\u001b[32m[07-24 05:45:48 MainThread @<ipython-input-15-d8257fa1376d>:26]\u001b[0m Steps 620249, Test reward: 6351.53230138462\n",
      "\u001b[32m[07-24 05:51:27 MainThread @<ipython-input-15-d8257fa1376d>:26]\u001b[0m Steps 630359, Test reward: 5369.2260180731655\n",
      "\u001b[32m[07-24 05:57:11 MainThread @<ipython-input-15-d8257fa1376d>:26]\u001b[0m Steps 640254, Test reward: 5429.442470365707\n",
      "\u001b[32m[07-24 06:03:35 MainThread @<ipython-input-15-d8257fa1376d>:26]\u001b[0m Steps 650884, Test reward: 5836.946728584512\n",
      "\u001b[32m[07-24 06:09:24 MainThread @<ipython-input-15-d8257fa1376d>:26]\u001b[0m Steps 660884, Test reward: 6184.426963624188\n",
      "\u001b[32m[07-24 06:14:53 MainThread @<ipython-input-15-d8257fa1376d>:26]\u001b[0m Steps 670482, Test reward: 7057.857079690618\n",
      "\u001b[32m[07-24 06:20:59 MainThread @<ipython-input-15-d8257fa1376d>:26]\u001b[0m Steps 680962, Test reward: 8052.88941049001\n",
      "\u001b[32m[07-24 06:26:32 MainThread @<ipython-input-15-d8257fa1376d>:26]\u001b[0m Steps 690633, Test reward: 6203.015915328821\n",
      "\u001b[32m[07-24 06:32:57 MainThread @<ipython-input-15-d8257fa1376d>:26]\u001b[0m Steps 700565, Test reward: 7340.783245582541\n",
      "\u001b[32m[07-24 06:39:01 MainThread @<ipython-input-15-d8257fa1376d>:26]\u001b[0m Steps 710538, Test reward: 7194.971234397044\n",
      "\u001b[32m[07-24 06:45:02 MainThread @<ipython-input-15-d8257fa1376d>:26]\u001b[0m Steps 720180, Test reward: 6051.878919246995\n",
      "\u001b[32m[07-24 06:50:40 MainThread @<ipython-input-15-d8257fa1376d>:26]\u001b[0m Steps 730014, Test reward: 7909.9141595610345\n",
      "\u001b[32m[07-24 06:56:13 MainThread @<ipython-input-15-d8257fa1376d>:26]\u001b[0m Steps 740587, Test reward: 5043.485828883115\n",
      "\u001b[32m[07-24 07:01:46 MainThread @<ipython-input-15-d8257fa1376d>:26]\u001b[0m Steps 750948, Test reward: 8153.843940519679\n",
      "\u001b[32m[07-24 07:06:48 MainThread @<ipython-input-15-d8257fa1376d>:26]\u001b[0m Steps 760137, Test reward: 7758.354217636488\n",
      "\u001b[32m[07-24 07:12:06 MainThread @<ipython-input-15-d8257fa1376d>:26]\u001b[0m Steps 770177, Test reward: 5547.957793160618\n",
      "\u001b[32m[07-24 07:17:47 MainThread @<ipython-input-15-d8257fa1376d>:26]\u001b[0m Steps 780865, Test reward: 6342.41033777266\n",
      "\u001b[32m[07-24 07:23:13 MainThread @<ipython-input-15-d8257fa1376d>:26]\u001b[0m Steps 790865, Test reward: 8380.727534440768\n",
      "\u001b[32m[07-24 07:28:59 MainThread @<ipython-input-15-d8257fa1376d>:26]\u001b[0m Steps 800824, Test reward: 8411.578768130868\n",
      "\u001b[32m[07-24 07:34:17 MainThread @<ipython-input-15-d8257fa1376d>:26]\u001b[0m Steps 810337, Test reward: 8282.309089739027\n",
      "\u001b[32m[07-24 07:39:45 MainThread @<ipython-input-15-d8257fa1376d>:26]\u001b[0m Steps 820337, Test reward: 8343.781904833548\n",
      "\u001b[32m[07-24 07:45:09 MainThread @<ipython-input-15-d8257fa1376d>:26]\u001b[0m Steps 830337, Test reward: 6246.895907685081\n",
      "\u001b[32m[07-24 07:50:35 MainThread @<ipython-input-15-d8257fa1376d>:26]\u001b[0m Steps 840337, Test reward: 8447.907173717364\n",
      "\u001b[32m[07-24 07:55:59 MainThread @<ipython-input-15-d8257fa1376d>:26]\u001b[0m Steps 850337, Test reward: 8394.87610914568\n",
      "\u001b[32m[07-24 08:01:15 MainThread @<ipython-input-15-d8257fa1376d>:26]\u001b[0m Steps 860053, Test reward: 8181.270668940464\n",
      "\u001b[32m[07-24 08:06:41 MainThread @<ipython-input-15-d8257fa1376d>:26]\u001b[0m Steps 870053, Test reward: 8317.98765236261\n",
      "\u001b[32m[07-24 08:12:25 MainThread @<ipython-input-15-d8257fa1376d>:26]\u001b[0m Steps 880792, Test reward: 8066.696845848569\n",
      "\u001b[32m[07-24 08:17:51 MainThread @<ipython-input-15-d8257fa1376d>:26]\u001b[0m Steps 890722, Test reward: 7963.237518302994\n",
      "\u001b[32m[07-24 08:24:14 MainThread @<ipython-input-15-d8257fa1376d>:26]\u001b[0m Steps 900671, Test reward: 8372.79533119961\n",
      "\u001b[32m[07-24 08:29:47 MainThread @<ipython-input-15-d8257fa1376d>:26]\u001b[0m Steps 910671, Test reward: 5477.994254975477\n",
      "\u001b[32m[07-24 08:35:11 MainThread @<ipython-input-15-d8257fa1376d>:26]\u001b[0m Steps 920671, Test reward: 8577.33206892636\n",
      "\u001b[32m[07-24 08:40:41 MainThread @<ipython-input-15-d8257fa1376d>:26]\u001b[0m Steps 930671, Test reward: 9009.815965819393\n",
      "\u001b[32m[07-24 08:46:44 MainThread @<ipython-input-15-d8257fa1376d>:26]\u001b[0m Steps 940663, Test reward: 7879.288053073981\n",
      "\u001b[32m[07-24 08:53:51 MainThread @<ipython-input-15-d8257fa1376d>:26]\u001b[0m Steps 950515, Test reward: 7772.766944461732\n",
      "\u001b[32m[07-24 09:00:31 MainThread @<ipython-input-15-d8257fa1376d>:26]\u001b[0m Steps 960515, Test reward: 7159.599647585402\n",
      "\u001b[32m[07-24 09:07:17 MainThread @<ipython-input-15-d8257fa1376d>:26]\u001b[0m Steps 970515, Test reward: 8574.09091188265\n",
      "\u001b[32m[07-24 09:14:10 MainThread @<ipython-input-15-d8257fa1376d>:26]\u001b[0m Steps 980205, Test reward: 8720.016515470592\n",
      "\u001b[32m[07-24 09:21:03 MainThread @<ipython-input-15-d8257fa1376d>:26]\u001b[0m Steps 990205, Test reward: 7812.226031420849\n",
      "\u001b[32m[07-24 09:27:30 MainThread @<ipython-input-15-d8257fa1376d>:26]\u001b[0m Steps 1000205, Test reward: 8055.910670316162\n",
      "\u001b[32m[07-24 09:33:48 MainThread @<ipython-input-15-d8257fa1376d>:26]\u001b[0m Steps 1010205, Test reward: 7407.490554717428\n",
      "\u001b[32m[07-24 09:39:17 MainThread @<ipython-input-15-d8257fa1376d>:26]\u001b[0m Steps 1020205, Test reward: 8580.576984575997\n",
      "\u001b[32m[07-24 09:44:48 MainThread @<ipython-input-15-d8257fa1376d>:26]\u001b[0m Steps 1030205, Test reward: 8521.881067900222\n",
      "\u001b[32m[07-24 09:50:14 MainThread @<ipython-input-15-d8257fa1376d>:26]\u001b[0m Steps 1040205, Test reward: 8513.10318689865\n",
      "\u001b[32m[07-24 09:55:49 MainThread @<ipython-input-15-d8257fa1376d>:26]\u001b[0m Steps 1050205, Test reward: 8575.903466682446\n",
      "\u001b[32m[07-24 10:01:21 MainThread @<ipython-input-15-d8257fa1376d>:26]\u001b[0m Steps 1060205, Test reward: 8626.767956803547\n",
      "\u001b[32m[07-24 10:07:06 MainThread @<ipython-input-15-d8257fa1376d>:26]\u001b[0m Steps 1070205, Test reward: 8590.976203961767\n",
      "\u001b[32m[07-24 10:12:34 MainThread @<ipython-input-15-d8257fa1376d>:26]\u001b[0m Steps 1080205, Test reward: 8656.140431120744\n",
      "\u001b[32m[07-24 10:18:02 MainThread @<ipython-input-15-d8257fa1376d>:26]\u001b[0m Steps 1090205, Test reward: 7705.89617508319\n",
      "\u001b[32m[07-24 10:23:29 MainThread @<ipython-input-15-d8257fa1376d>:26]\u001b[0m Steps 1100205, Test reward: 8008.264303002847\n",
      "\u001b[32m[07-24 10:28:54 MainThread @<ipython-input-15-d8257fa1376d>:26]\u001b[0m Steps 1110205, Test reward: 8174.685869209794\n",
      "\u001b[32m[07-24 10:34:18 MainThread @<ipython-input-15-d8257fa1376d>:26]\u001b[0m Steps 1120205, Test reward: 8836.841406239173\n",
      "\u001b[32m[07-24 10:39:48 MainThread @<ipython-input-15-d8257fa1376d>:26]\u001b[0m Steps 1130205, Test reward: 8403.215368137777\n",
      "\u001b[32m[07-24 10:45:18 MainThread @<ipython-input-15-d8257fa1376d>:26]\u001b[0m Steps 1140205, Test reward: 8823.563519818765\n",
      "\u001b[32m[07-24 10:50:47 MainThread @<ipython-input-15-d8257fa1376d>:26]\u001b[0m Steps 1150205, Test reward: 8697.98618588423\n",
      "\u001b[32m[07-24 10:56:14 MainThread @<ipython-input-15-d8257fa1376d>:26]\u001b[0m Steps 1160205, Test reward: 8055.503354076694\n",
      "\u001b[32m[07-24 11:01:42 MainThread @<ipython-input-15-d8257fa1376d>:26]\u001b[0m Steps 1170205, Test reward: 8713.491746541298\n",
      "\u001b[32m[07-24 11:07:11 MainThread @<ipython-input-15-d8257fa1376d>:26]\u001b[0m Steps 1180205, Test reward: 8239.356101881433\n",
      "\u001b[32m[07-24 11:12:43 MainThread @<ipython-input-15-d8257fa1376d>:26]\u001b[0m Steps 1190205, Test reward: 8225.805845165163\n",
      "\u001b[32m[07-24 11:18:12 MainThread @<ipython-input-15-d8257fa1376d>:26]\u001b[0m Steps 1200205, Test reward: 8961.446121885416\n"
     ]
    }
   ],
   "source": [
    "# 启动训练\n",
    "\n",
    "# # 加载模型\n",
    "# save_path = 'final.ckpt'\n",
    "# agent.restore(save_path)\n",
    "prev_eval_reward = 5000\n",
    "test_flag = 0\n",
    "total_steps = 0\n",
    "while total_steps < TRAIN_TOTAL_STEPS:\n",
    "    train_reward, steps = run_episode(env, agent, rpm)\n",
    "    total_steps += steps\n",
    "    all_train_rewards.append(train_reward)\n",
    "    #logger.info('Steps: {} Reward: {}'.format(total_steps, train_reward)) # 打印训练reward\n",
    "\n",
    "    if total_steps // TEST_EVERY_STEPS >= test_flag: # 每隔一定step数，评估一次模型\n",
    "        while total_steps // TEST_EVERY_STEPS >= test_flag:\n",
    "            test_flag += 1\n",
    " \n",
    "        evaluate_reward = evaluate(env, agent)\n",
    "        all_test_rewards.append(evaluate_reward)\n",
    "        if evaluate_reward > prev_eval_reward:\n",
    "            prev_eval_reward = evaluate_reward\n",
    "            ckpt = 'Steps_{}_reward_{}.ckpt'.format(total_steps, int(evaluate_reward))\n",
    "            agent.save('td3_models_dir/'+ckpt, mode='predict')\n",
    "        logger.info('Steps {}, Test reward: {}'.format(\n",
    "            total_steps, evaluate_reward)) # 打印评估的reward\n",
    "        \n",
    "# 保存模型\n",
    "agent.save(save_path='models_dir/final.ckpt', mode='predict')        "
   ]
  },
  {
   "cell_type": "code",
   "execution_count": 16,
   "metadata": {
    "collapsed": false
   },
   "outputs": [],
   "source": [
    "import matplotlib.pyplot as plt\n",
    "all_train_steps = [i for i in range(len(all_train_rewards))]\n",
    "all_test_steps = [i for i in range(len(all_test_rewards))]"
   ]
  },
  {
   "cell_type": "code",
   "execution_count": 23,
   "metadata": {
    "collapsed": false
   },
   "outputs": [],
   "source": [
    "def draw_process(title,step,train_reward,label_train_reward, color, label_y):\n",
    "    plt.title(title, fontsize=24)\n",
    "    plt.xlabel(\"episode\", fontsize=20)\n",
    "    plt.ylabel(label_y, fontsize=20)\n",
    "    plt.plot(step, train_reward,color=color,label=label_train_reward) \n",
    "    plt.legend()\n",
    "    plt.grid()\n",
    "    plt.show()"
   ]
  },
  {
   "cell_type": "code",
   "execution_count": 24,
   "metadata": {
    "collapsed": false
   },
   "outputs": [
    {
     "data": {
      "image/png": "[encoded data removed]",
      "text/plain": [
       "<Figure size 432x288 with 1 Axes>"
      ]
     },
     "metadata": {},
     "output_type": "display_data"
    },
    {
     "data": {
      "image/png": "[encoded data removed]",
      "text/plain": [
       "<Figure size 432x288 with 1 Axes>"
      ]
     },
     "metadata": {},
     "output_type": "display_data"
    }
   ],
   "source": [
    "draw_process(\"training\",all_train_steps,all_train_rewards,\"trainning reward\", \"red\", \"train_reward\") \n",
    "draw_process(\"testing\",all_test_steps,all_test_rewards,\"testing reward\", \"green\", \"eval_reward\") "
   ]
  },
  {
   "cell_type": "code",
   "execution_count": 19,
   "metadata": {
    "collapsed": false
   },
   "outputs": [],
   "source": [
    "np.savez('result/td3_result.npz', all_train_rewards=all_train_rewards, all_test_rewards=all_test_rewards)"
   ]
  },
  {
   "cell_type": "code",
   "execution_count": 25,
   "metadata": {
    "collapsed": false
   },
   "outputs": [
    {
     "name": "stdout",
     "output_type": "stream",
     "text": [
      "\u001b[32m[07-24 11:36:45 MainThread @<ipython-input-25-bd115d28c762>:12]\u001b[0m Evaluate reward: 8812.06408758004\n"
     ]
    }
   ],
   "source": [
    "######################################################################\n",
    "######################################################################\n",
    "#\n",
    "# 7. 选择训练的模型文件做评估\n",
    "#\n",
    "######################################################################\n",
    "######################################################################\n",
    "ckpt = 'td3_models_dir/Steps_930671_reward_9009.ckpt'  # 可以设置ckpt为训练中效果最好的一次评估保存的模型文件名称\n",
    "\n",
    "agent.restore(ckpt, mode='predict')\n",
    "evaluate_reward = evaluate(env, agent)\n",
    "logger.info('Evaluate reward: {}'.format(evaluate_reward)) # 打印评估的reward"
   ]
  }
 ],
 "metadata": {
  "kernelspec": {
   "display_name": "PaddlePaddle 1.8.0 (Python 3.5)",
   "language": "python",
   "name": "py35-paddle1.2.0"
  },
  "language_info": {
   "codemirror_mode": {
    "name": "ipython",
    "version": 3
   },
   "file_extension": ".py",
   "mimetype": "text/x-python",
   "name": "python",
   "nbconvert_exporter": "python",
   "pygments_lexer": "ipython3",
   "version": "3.7.4"
  }
 },
 "nbformat": 4,
 "nbformat_minor": 1
}
